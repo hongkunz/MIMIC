{
 "cells": [
  {
   "cell_type": "code",
   "execution_count": 1,
   "metadata": {},
   "outputs": [
    {
     "name": "stdout",
     "output_type": "stream",
     "text": [
      "total time cost = 1583.4562890529633\n",
      "total time cost = 57.77789902687073\n",
      "total time cost = 102.61465501785278\n"
     ]
    }
   ],
   "source": [
    "import pandas as pd\n",
    "import numpy as np\n",
    "import time\n",
    "\n",
    "data_folder = 'data'\n",
    "file_name = ['train','test','val']\n",
    "\n",
    "for file in file_name:\n",
    "    df = pd.read_csv('{}/LSTM_tensor_{}.csv'.format(data_folder, file))\n",
    "    num_traj = df[\"UNIQUE_ID\"].nunique()\n",
    "    num_point = df[\"TIME_STAMP\"].nunique()\n",
    "    num_dim = df[\"LABEL_CODE\"].nunique()\n",
    "    x = np.zeros([num_traj, num_point, num_dim])\n",
    "    num_sample = df.count()[0]\n",
    "    start_id = df[\"UNIQUE_ID\"][0]\n",
    "    \n",
    "    start = time.time()\n",
    "    for i in range(num_sample):\n",
    "        row = df.loc[i]\n",
    "        x[int(row[\"UNIQUE_ID\"]-start_id),int(row[\"TIME_STAMP\"]),int(row[\"LABEL_CODE\"])] = row[\"VALUENORM\"]\n",
    "    end = time.time()\n",
    "    print(\"total time cost = {}\".format(end-start))\n",
    "    np.save('{}/{}.npy'.format(data_folder,file), x)"
   ]
  },
  {
   "cell_type": "code",
   "execution_count": 2,
   "metadata": {},
   "outputs": [
    {
     "name": "stdout",
     "output_type": "stream",
     "text": [
      "total time cost = 1.9986000061035156\n",
      "total time cost = 0.2825038433074951\n",
      "total time cost = 0.5087807178497314\n"
     ]
    }
   ],
   "source": [
    "for file in file_name:\n",
    "    df = pd.read_csv('{}/LSTM_death_tags_{}.csv'.format(data_folder, file))\n",
    "    num_traj = df[\"UNIQUE_ID\"].nunique()\n",
    "    x = np.zeros([num_traj, 1])\n",
    "    num_sample = df.count()[0]\n",
    "    start_id = df[\"UNIQUE_ID\"][0]\n",
    "    \n",
    "    start = time.time()\n",
    "    for i in range(num_sample):\n",
    "        row = df.loc[i]\n",
    "        x[int(row[\"UNIQUE_ID\"]-start_id)] = row[\"Value\"]\n",
    "    end = time.time()\n",
    "    print(\"total time cost = {}\".format(end-start))\n",
    "    np.save('{}/{}_label.npy'.format(data_folder,file), x)"
   ]
  },
  {
   "cell_type": "code",
   "execution_count": null,
   "metadata": {},
   "outputs": [],
   "source": []
  }
 ],
 "metadata": {
  "kernelspec": {
   "display_name": "Python 3",
   "language": "python",
   "name": "python3"
  },
  "language_info": {
   "codemirror_mode": {
    "name": "ipython",
    "version": 3
   },
   "file_extension": ".py",
   "mimetype": "text/x-python",
   "name": "python",
   "nbconvert_exporter": "python",
   "pygments_lexer": "ipython3",
   "version": "3.7.6"
  }
 },
 "nbformat": 4,
 "nbformat_minor": 2
}
